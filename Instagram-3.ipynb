{
 "cells": [
  {
   "cell_type": "markdown",
   "metadata": {},
   "source": [
    "# Instagram Explore feed"
   ]
  },
  {
   "cell_type": "markdown",
   "metadata": {},
   "source": [
    "Import relevant libraries"
   ]
  },
  {
   "cell_type": "code",
   "execution_count": 36,
   "metadata": {},
   "outputs": [],
   "source": [
    "from selenium import webdriver\n",
    "from selenium.webdriver.common.keys import Keys\n",
    "from bs4 import BeautifulSoup\n",
    "import re\n",
    "import pandas as pd\n",
    "import os\n",
    "import time\n",
    "import pickle,csv\n",
    "import matplotlib.pyplot as plt"
   ]
  },
  {
   "cell_type": "markdown",
   "metadata": {},
   "source": [
    "Functions to save and load cookies"
   ]
  },
  {
   "cell_type": "code",
   "execution_count": 2,
   "metadata": {},
   "outputs": [],
   "source": [
    "# Save cookie from driver after login\n",
    "def save_cookie(driver, path):\n",
    "    with open(path, 'wb') as filehandler:\n",
    "        pickle.dump(driver.get_cookies(), filehandler)"
   ]
  },
  {
   "cell_type": "code",
   "execution_count": 12,
   "metadata": {},
   "outputs": [],
   "source": [
    "# Use a saved Cookie\n",
    "def load_cookie(driver, path):\n",
    "     with open(path, 'rb') as cookiesfile:\n",
    "         cookies = pickle.load(cookiesfile)\n",
    "         for cookie in cookies:\n",
    "             driver.add_cookie(cookie)"
   ]
  },
  {
   "cell_type": "markdown",
   "metadata": {},
   "source": [
    "Open Explore Instagram feed and login using the given cookie"
   ]
  },
  {
   "cell_type": "code",
   "execution_count": 29,
   "metadata": {},
   "outputs": [],
   "source": [
    "url = \"https://www.instagram.com/explore/\"\n",
    "\n",
    "# create a new Firefox session\n",
    "driver = webdriver.Firefox()\n",
    "driver.implicitly_wait(30)\n",
    "driver.get(url)\n",
    "load_cookie(driver,'cookie')\n",
    "driver.refresh()\n",
    "actionChain = webdriver.ActionChains(driver)\n",
    "# Save data to output_insta_3.csv\n",
    "w = csv.writer(open(\"output_insta_3.csv\", \"a\"))"
   ]
  },
  {
   "cell_type": "code",
   "execution_count": 30,
   "metadata": {},
   "outputs": [],
   "source": [
    "comments = {}\n",
    "likes = {}\n",
    "views = {}\n",
    "multiple = {}\n",
    "count = 0\n",
    "lastImg = 0\n",
    "actionChain = webdriver.ActionChains(driver)\n",
    "while len(likes) < 3000:\n",
    "    img = driver.find_elements_by_class_name('v1Nh3')\n",
    "    imgLen = len(img)\n",
    "    i = 0\n",
    "    while i < imgLen:\n",
    "        if len(likes) >= 3000:\n",
    "            break\n",
    "        try:\n",
    "            img = driver.find_elements_by_class_name('v1Nh3')\n",
    "            imgLen = len(img)\n",
    "            if lastImg:\n",
    "                if lastImg == img[i-1]:\n",
    "                    pass\n",
    "                else:\n",
    "                    for j in range(imgLen):\n",
    "                        if lastImg == img[j]:\n",
    "                            i = j+1\n",
    "                            break\n",
    "            actionChain = webdriver.ActionChains(driver)\n",
    "            hover = actionChain.move_to_element(img[i])\n",
    "            hover.perform()\n",
    "            soup=BeautifulSoup(driver.page_source, 'html.parser')\n",
    "            l = soup.find_all(class_='v1Nh3')\n",
    "            index = str(re.findall('<a href=\"[/ \\- _ $ % ? a-z A-Z 0-9]*\">',str(l[i])))\n",
    "            index = str(re.findall('/[/ \\- _ $ % ? a-z A-Z 0-9]*/',index))\n",
    "            if 'Carousel' in str(l[i]):\n",
    "                multiple[index] = 1\n",
    "            else:\n",
    "                multiple[index] = 0\n",
    "            soup=BeautifulSoup(driver.page_source, 'html.parser')\n",
    "            l = soup.find_all('li', class_='-V_eO')\n",
    "            if len(l) != 2:\n",
    "                l = l[len(l)-2:len(l)]\n",
    "            l1 = l[0].get_text()\n",
    "            l2 = l[1].get_text()\n",
    "            comments[index] = l2\n",
    "            if 'Play' in str(l[0]):\n",
    "                views[index] = l1\n",
    "                try:\n",
    "                    img1 = driver.find_elements_by_class_name('v1Nh3')[i]\n",
    "                    img1.click()\n",
    "                    v = driver.find_elements_by_class_name('vcOH2')[0]\n",
    "                    v.click()\n",
    "                    soup=BeautifulSoup(driver.page_source, 'html.parser')\n",
    "                    likeTmp = soup.find(class_='vJRqr').text.strip('likes').strip()\n",
    "                    likes[index] = likeTmp\n",
    "                    close = driver.find_elements_by_class_name('ckWGn')[0]\n",
    "                    close.click()                        \n",
    "                except Exception as e:\n",
    "#                     print(e)\n",
    "                    close = driver.find_elements_by_class_name('ckWGn')[0]\n",
    "                    close.click()\n",
    "                    pass\n",
    "            else :\n",
    "                likes[index] = l1\n",
    "                views[index] = -1\n",
    "            lastImg = img[i]\n",
    "#             print (index, likes[index],comments[index])\n",
    "            i += 1\n",
    "            w.writerow([index, likes[index], comments[index],views[index],multiple[index]])     \n",
    "#             flag = 1\n",
    "        except Exception as e:\n",
    "#             print(e)\n",
    "#             if flag:\n",
    "            actionChain = webdriver.ActionChains(driver)\n",
    "            actionChain.key_down(Keys.PAGE_DOWN).key_up(Keys.PAGE_DOWN).perform()\n",
    "#                 flag = 0\n",
    "            time.sleep(3)\n"
   ]
  },
  {
   "cell_type": "code",
   "execution_count": 33,
   "metadata": {},
   "outputs": [],
   "source": [
    "likes = {}\n",
    "comments = {}\n",
    "views = {}\n",
    "multiple = {}\n",
    "with open(\"output_insta_3.csv\") as csvfile:\n",
    "    readCSV = csv.reader(csvfile)\n",
    "    data = list(readCSV)\n",
    "for i in range(len(data)):\n",
    "    key = data[i][0]\n",
    "    likes[key] = data[i][1]\n",
    "    comments[key] = data[i][2]\n",
    "    views[key] = data[i][3]\n",
    "    if views[key] == '-1':\n",
    "        views[key] = '0'\n",
    "    multiple[key] = data[i][4]"
   ]
  },
  {
   "cell_type": "code",
   "execution_count": 34,
   "metadata": {},
   "outputs": [],
   "source": [
    "for i in likes:\n",
    "    if 'k' in str(likes[i]):\n",
    "        likes[i] = float(likes[i].strip('k'))*1000\n",
    "        continue\n",
    "    likes[i] = str(likes[i])\n",
    "    likes[i] = ''.join(c for c in likes[i] if c.isnumeric())\n",
    "    likes[i] = int(likes[i])\n",
    "for i in views:\n",
    "    if 'k' in str(views[i]):\n",
    "        views[i] = float(views[i].strip('k'))*1000\n",
    "        continue\n",
    "        \n",
    "    views[i] = str(views[i])\n",
    "    views[i] = ''.join(c for c in views[i] if c.isnumeric())\n",
    "    views[i] = int(views[i])\n",
    "for i in comments:\n",
    "    comments[i] = str(comments[i])\n",
    "    comments[i] = ''.join(c for c in comments[i] if c.isnumeric())\n",
    "    comments[i] = int(comments[i])\n",
    "multipleCount = 0\n",
    "for i in multiple:\n",
    "    multiple[i] = str(multiple[i])\n",
    "    multiple[i] = ''.join(c for c in multiple[i] if c.isnumeric())\n",
    "    multiple[i] = int(multiple[i])\n",
    "    if multiple[i] == 1:\n",
    "        multipleCount += 1"
   ]
  },
  {
   "cell_type": "code",
   "execution_count": 50,
   "metadata": {},
   "outputs": [
    {
     "name": "stdout",
     "output_type": "stream",
     "text": [
      "Popularity Score: 980784.0 ID ['/p/BwKlgl6hopB/'] Likes: 972000.0 Comments: 2928\n",
      "Popularity Score: 977248.0 ID ['/p/BwDmgAwhrsw/'] Likes: 967000.0 Comments: 3416\n",
      "Popularity Score: 917827.0 ID ['/p/BwGF969hC1X/'] Likes: 892000.0 Comments: 8609\n",
      "Popularity Score: 889230.0 ID ['/p/BwOKcJuFhAr/'] Likes: 882000.0 Comments: 2410\n",
      "Popularity Score: 874922.0 ID ['/p/BwN9xjRn593/'] Likes: 854000.0 Comments: 6974\n"
     ]
    }
   ],
   "source": [
    "popularity = {}\n",
    "for i in likes:\n",
    "    popularity[i] = likes[i] + 3*comments[i]\n",
    "sorted_like = sorted(popularity, key=popularity.get, reverse=True)\n",
    "for i in range(5):\n",
    "    print(\"Popularity Score:\",popularity[sorted_like[i]],\"ID\",sorted_like[i],\"Likes:\",likes[sorted_like[i]],\"Comments:\",comments[sorted_like[i]])"
   ]
  },
  {
   "cell_type": "code",
   "execution_count": 51,
   "metadata": {},
   "outputs": [
    {
     "data": {
      "image/png": "[encoded data removed]",
      "text/plain": [
       "<Figure size 432x288 with 1 Axes>"
      ]
     },
     "metadata": {},
     "output_type": "display_data"
    }
   ],
   "source": [
    "labels = \"Post with Single Image/Video\", \"Post with Multiple Images/Video\"\n",
    "sizes = [3000-multipleCount,multipleCount]\n",
    "colors = ['orange', 'blue']\n",
    "explode = (0, 0)\n",
    "plt.pie(sizes, explode=explode, labels=labels, colors=colors,\n",
    "autopct='%1.1f%%', shadow=True, startangle=140)\n",
    " \n",
    "plt.axis('equal')\n",
    "plt.show()"
   ]
  },
  {
   "cell_type": "code",
   "execution_count": null,
   "metadata": {},
   "outputs": [],
   "source": []
  }
 ],
 "metadata": {
  "kernelspec": {
   "display_name": ".venv",
   "language": "python",
   "name": ".venv"
  },
  "language_info": {
   "codemirror_mode": {
    "name": "ipython",
    "version": 3
   },
   "file_extension": ".py",
   "mimetype": "text/x-python",
   "name": "python",
   "nbconvert_exporter": "python",
   "pygments_lexer": "ipython3",
   "version": "3.6.7"
  }
 },
 "nbformat": 4,
 "nbformat_minor": 2
}
